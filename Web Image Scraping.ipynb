{
 "cells": [
  {
   "cell_type": "code",
   "execution_count": null,
   "metadata": {},
   "outputs": [],
   "source": [
    "# Web page image scraper\n",
    "import requests\n",
    "from bs4 import *\n",
    "import matplotlib.pyplot as plt"
   ]
  },
  {
   "cell_type": "code",
   "execution_count": null,
   "metadata": {},
   "outputs": [],
   "source": [
    "link = input(\"Input your link:\")\n",
    "req = requests.get(link)\n",
    "soup = BeautifulSoup(req.text, 'lxml')\n",
    "imgs = soup.find_all('img')\n",
    "k = 1\n",
    "for i in imgs:\n",
    "    try:\n",
    "        url = i['src']\n",
    "        print('Image Link:', k)\n",
    "        print(url)\n",
    "        response = requests.get(url,stream = True)\n",
    "        img = Image.open(response.raw)\n",
    "        plt.imshow(img)\n",
    "        plt.close()\n",
    "        img.save('LUCKY-PC/Users/LuCky/Desktop/Web Image Scraping/Image_Scraping')\n",
    "    except:\n",
    "        KeyError\n",
    "    k+=1    "
   ]
  }
 ],
 "metadata": {
  "kernelspec": {
   "display_name": "Python 3",
   "language": "python",
   "name": "python3"
  },
  "language_info": {
   "codemirror_mode": {
    "name": "ipython",
    "version": 3
   },
   "file_extension": ".py",
   "mimetype": "text/x-python",
   "name": "python",
   "nbconvert_exporter": "python",
   "pygments_lexer": "ipython3",
   "version": "3.7.3"
  }
 },
 "nbformat": 4,
 "nbformat_minor": 2
}
